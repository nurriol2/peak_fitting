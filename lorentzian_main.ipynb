{
  "nbformat": 4,
  "nbformat_minor": 0,
  "metadata": {
    "colab": {
      "name": "lorentzian_main.ipynb",
      "provenance": [],
      "collapsed_sections": []
    },
    "kernelspec": {
      "name": "python3",
      "display_name": "Python 3"
    },
    "language_info": {
      "name": "python"
    }
  },
  "cells": [
    {
      "cell_type": "code",
      "source": [
        "from IPython.display import clear_output\n",
        "# Clone Allan Online repo to notebook directory\n",
        "!git clone https://github.com/nurriol2/allan-online.git\n",
        "!pip install lmfit\n",
        "\n",
        "import os\n",
        "import sys\n",
        "allan_online_dir = \"./allan-online\"\n",
        "sys.path.append(os.path.abspath(allan_online_dir))\n",
        "import fnmatch\n",
        "import numpy as np\n",
        "import pandas as pd\n",
        "import scipy as scipy\n",
        "import matplotlib.pyplot as plt\n",
        "from lmfit.models import ExpressionModel\n",
        "from scipy.signal import find_peaks, peak_widths\n",
        "clear_output()"
      ],
      "metadata": {
        "id": "A1fInGPrZbs3"
      },
      "execution_count": 1,
      "outputs": []
    },
    {
      "cell_type": "code",
      "source": [
        "# Access to the data directories\n",
        "\n",
        "if os.path.isdir(\"/content/heterodyne/\") and os.path.isdir(\"/content/split_detection/\"):\n",
        "    pass\n",
        "else:\n",
        "    !unzip /content/drive/MyDrive/allan_data/heterodyne.zip\n",
        "    !unzip /content/drive/MyDrive/allan_data/split_detection.zip\n",
        "clear_output()"
      ],
      "metadata": {
        "id": "Ptq0oQOqZnGF"
      },
      "execution_count": 2,
      "outputs": []
    },
    {
      "cell_type": "markdown",
      "source": [
        "# Helper functions"
      ],
      "metadata": {
        "id": "Jyn2JVTbZSVI"
      }
    },
    {
      "cell_type": "code",
      "source": [
        "# Helper functions\n",
        "\n",
        "def match_filenames_in_dir(pattern, directory):\n",
        "\n",
        "    \"\"\"\n",
        "    Search a directory tree for all filenames which match a specified pattern\n",
        "\n",
        "    Args:\n",
        "    pattern (str):  Expression for the filename template.\n",
        "\n",
        "    directory(str):  Path to directory where data files are located.\n",
        "\n",
        "    Returns:\n",
        "    (list(str), list(str)):  A tuple of lists. \n",
        "                             The first list contains full paths to found files.\n",
        "                             The second list contains only the file names.\n",
        "    \"\"\"\n",
        "\n",
        "    # List of all found files that match pattern\n",
        "    full_paths = []\n",
        "    filenames = []\n",
        "    # Walk the tree\n",
        "    for root, dirs, files in os.walk(directory):\n",
        "        # Only care about files within the directory\n",
        "        for name in files:\n",
        "            if fnmatch.fnmatch(name, pattern):\n",
        "                full_paths.append(os.path.join(root, name))\n",
        "                filenames.append(name)\n",
        "    return (full_paths, filenames)\n",
        "\n",
        "\n",
        "def center_zoom(arr, window):\n",
        "    \"\"\"\n",
        "    Trim an array to select a centered view of size `window` \n",
        "\n",
        "    Args:\n",
        "    arr (np.ndarray):  An array of values.\n",
        "\n",
        "    window (int):  The size of the window to view.\n",
        "\n",
        "    Returns:\n",
        "    (np.ndarray):  The same as `arr` with window//2 elements to the left and \n",
        "                   right of the midpoint.\n",
        "    \"\"\"\n",
        "\n",
        "    center = len(arr)//2\n",
        "    left = center-window//2\n",
        "    right = center+window//2\n",
        "    selection = arr[left:right]\n",
        "    return selection\n",
        "\n",
        "\n",
        "def accumulate_splitband_areas(splitband_files):\n",
        "    \n",
        "    calc_pct_err = lambda raw_area, fit_area : 100*(abs(fit_area-raw_area)/abs(raw_area))\n",
        "\n",
        "    # Calculate percent error b/n raw and fit areas in all the files\n",
        "    area_pct_err = []\n",
        "    for filename in splitband_files:\n",
        "        splitband = SplitBandData(CHANNEL_A_DIRECTORY, filename, SPLITBAND_UNITS)\n",
        "        splitband.fit_1d_lorentzian()\n",
        "\n",
        "        raw_area = splitband.raw_area\n",
        "        fit_area = splitband.fit_area\n",
        "        area_pct_err.append(calc_pct_err(raw_area, fit_area))\n",
        "\n",
        "    return area_pct_err \n",
        "\n",
        "\n",
        "def plot_percent_error(err_per_file, title=\"Percent Error between Raw Area and Fit Area\"):\n",
        "    avg_pct_err = np.mean(err_per_file)\n",
        "\n",
        "    plt.figure(figsize=(10,8))\n",
        "    plt.bar(np.arange(1, len(err_per_file)+1), err_per_file)\n",
        "    plt.hlines(avg_pct_err, 1, len(err_per_file), color=\"red\", label=\"Avg % Err\")\n",
        "\n",
        "    plt.legend()\n",
        "    plt.ylabel(\"% Error\")\n",
        "    plt.xlabel(\"File number\")\n",
        "    plt.title(f\"{title}\")\n",
        "    plt.show()    \n",
        "    return "
      ],
      "metadata": {
        "id": "rLGfMmYwZC1A"
      },
      "execution_count": 3,
      "outputs": []
    },
    {
      "cell_type": "markdown",
      "source": [
        "# Classes"
      ],
      "metadata": {
        "id": "1wvuAZc1ZVTc"
      }
    },
    {
      "cell_type": "code",
      "execution_count": 4,
      "metadata": {
        "id": "40XyBG7hY2gk"
      },
      "outputs": [],
      "source": [
        "# Define classes\n",
        "\n",
        "from dataclasses import dataclass, field\n",
        "\n",
        "class Lorentzian:\n",
        "\n",
        "    def __init__(self, x, amp, cen, wid, back):\n",
        "        self.x = x\n",
        "        self.amp = amp\n",
        "        self.cen = cen\n",
        "        self.wid = wid\n",
        "        self.back = back\n",
        "        self.values = self._single_peak_lorentzian()\n",
        "        return \n",
        "\n",
        "    def _single_peak_lorentzian(self):\n",
        "        \"\"\"\n",
        "        Definition of a Lorentzian with a single peak. \n",
        "        See https://docs.astropy.org/en/stable/api/astropy.modeling.functional_models.Lorentz1D.html\n",
        "\n",
        "        Args:\n",
        "        x (np.ndarray(float)):  Values where the Lorentzian is evaluated.\n",
        "\n",
        "        amp (float):  The amplitude of the peak.\n",
        "\n",
        "        cen (float):  The value in the domain where the peak is found.\n",
        "\n",
        "        wid (float):  Half of the full width at half maximum (FWHM).\n",
        "\n",
        "        back (float, optional): A cosntant representing the background offset.\n",
        "                                Defaults to 0.0\n",
        "\n",
        "        Returns:\n",
        "        (np.ndarray(float)):  Values for the Lorentzian computed over `x`\n",
        "        \"\"\"\n",
        "        return (self.amp*self.wid**2/((self.x-self.cen)**2+self.wid**2))+self.back\n",
        "\n",
        "    def area_under_curve(self):\n",
        "        return np.trapz(self.values)\n",
        "    \n",
        "    def mechanical_frequency(self):\n",
        "        return max(self.values)\n",
        "    \n",
        "    def linewidth(self):\n",
        "        return 2*self.wid\n",
        "\n",
        "    def all_values(self):\n",
        "        return {\"fit_area\":self.area_under_curve(),\n",
        "                \"mechanical_frequency\":self.mechanical_frequency(),\n",
        "                \"linewidth\":self.linewidth()}\n",
        "\n",
        "# End Lorentzian\n",
        "\n",
        "\n",
        "@dataclass\n",
        "class SpectrumFile:\n",
        "    \"\"\"\n",
        "    Class for working with sideband and heterodyne spectral density measurements\n",
        "    \"\"\"\n",
        "\n",
        "    directory: str\n",
        "    pattern: str\n",
        "    units: str\n",
        "    fullpath: str = field(init=False)\n",
        "    frequencies: np.ndarray = field(init=False)\n",
        "    spectrum: np.ndarray = field(init=False)\n",
        "\n",
        "    def __post_init__(self):\n",
        "        self.fullpath = os.path.join(self.directory, self.pattern)\n",
        "        self.frequencies, self.spectrum = self.file_to_arrays()\n",
        "        return \n",
        "\n",
        "\n",
        "    def _load_csv_file(self):\n",
        "        \"\"\"\n",
        "        Load a single csv file into memory as a pandas.DataFrame\n",
        "        \n",
        "        Returns:\n",
        "        (pd.DataFrame):  A pandas.DataFrame where the columns are Frequency (Hz)\n",
        "                         and Spectral Density (...) with specified units.\n",
        "        \"\"\"\n",
        "\n",
        "        return pd.read_csv(self.fullpath, names=[\"Frequency (Hz)\", f\"Spectral Density ({self.units})\"])\n",
        "\n",
        "\n",
        "    def _columns_to_array(self, df):\n",
        "        \"\"\"\n",
        "        Create individual numpy arrays from columns of a data frame\n",
        "\n",
        "        Args:\n",
        "        df (pd.DataFrame):  The data frame to convert\n",
        "\n",
        "        Returns:\n",
        "        tuple(np.array, ... np.array):  The columns of `df` as elements of a tuple.\n",
        "                                        Length of tuple depends on number of columns.\n",
        "        \"\"\"\n",
        "        result = []\n",
        "        for _, col_data in df.iteritems():\n",
        "            result.append(col_data.values)\n",
        "        return result\n",
        "\n",
        "\n",
        "    def file_to_arrays(self):\n",
        "\n",
        "        \"\"\"\n",
        "        Process a single spectrum file into memeory as numpy arrays\n",
        "\n",
        "        Returns:\n",
        "        tuple(np.array, ... np.array):  The columns of `df` as elements of a tuple.\n",
        "                                        Length of tuple depends on number of columns.\n",
        "        \"\"\"\n",
        "\n",
        "        df = self._load_csv_file()\n",
        "\n",
        "        return self._columns_to_array(df)    \n",
        "\n",
        "\n",
        "    def sort_key(self):\n",
        "        \"\"\"\n",
        "        Find the file number from the path to a file.\n",
        "        Example:  Extract the number 109 from /.../cha_st80_109.CSV\n",
        "\n",
        "        Args:\n",
        "        fullpath (str):  The full path to the CSV file\n",
        "\n",
        "        Returns:\n",
        "        (int):  The found file number\n",
        "        \"\"\"\n",
        "\n",
        "        filename = self.fullpath.split('/')[-1]\n",
        "        filenumber = filename.split('_')[-1].strip(\".CSV\")\n",
        "        return filenumber   \n",
        "        \n",
        "    def trim_data(self, low=None, high=None):\n",
        "        \"\"\"\n",
        "        Set the low and high frequency of the SpectrumFile object in place.\n",
        "        Trim the spectrum array to the corresponding values.\n",
        "        \"\"\"\n",
        "        \n",
        "        # Call without parameters should return the original array\n",
        "        low_index = 0\n",
        "        high_index = len(self.frequencies)-1\n",
        "        \n",
        "        # Determine the index of the element closest to value\n",
        "        # If multiple matches, takes the first occurance \n",
        "        close_elem_index = lambda array, value : np.absolute(array-value).argmin()\n",
        "        \n",
        "        if low is not None:\n",
        "            low_index = close_elem_index(self.frequencies, low)\n",
        "        if high is not None:\n",
        "            high_index = close_elem_index(self.frequencies, high)\n",
        "        \n",
        "        self.frequencies = self.frequencies[low_index:high_index+1]\n",
        "        self.spectrum = self.spectrum[low_index:high_index+1]\n",
        "        return \n",
        " \n",
        "\n",
        "# End SpectrumFile\n",
        "\n",
        "\n",
        "\n",
        "@dataclass\n",
        "class SplitBandData(SpectrumFile):\n",
        "    \"\"\"\n",
        "    Class for working with split band data.\n",
        "    Example:  `cha_st80_1.CSV`\n",
        "    \"\"\"\n",
        "\n",
        "    # Area under the spectrum\n",
        "    raw_area: float = field(init=False)\n",
        "    # Initial estimate for the width of the peak\n",
        "    width_estimate: float = field(init=False)\n",
        "\n",
        "    def __post_init__(self):\n",
        "        super().__post_init__()\n",
        "        self._set_width_estimate()\n",
        "        self.raw_area = np.trapz(self.spectrum)\n",
        "        return\n",
        "\n",
        "    # TODO:  Associate width with the Lorentzian object?\n",
        "    def _set_width_estimate(self):    \n",
        "        estimate = peak_widths(self.spectrum, [np.argmax(self.spectrum)], rel_height=0.5)\n",
        "        self.width_estimate = estimate[0].item(0)\n",
        "        return\n",
        "\n",
        "    def init_lorentzian(self):\n",
        "        \"\"\"\n",
        "        Define a Lorentzian object from frequency and spectrum data\n",
        "        \"\"\" \n",
        "\n",
        "        def _1Lorentzian(x, amp, cen, wid, back):\n",
        "            return (amp*wid**2/((x-cen)**2+wid**2))+back\n",
        "        \n",
        "        # Frequency of peak\n",
        "        center = self.frequencies[np.where(self.spectrum==self.spectrum.max())].item()\n",
        "        \n",
        "        optimal_params, _ = scipy.optimize.curve_fit(_1Lorentzian,\n",
        "                                                    self.frequencies,\n",
        "                                                    self.spectrum,\n",
        "                                                    p0=[self.spectrum.max().item(),\n",
        "                                                        center,\n",
        "                                                        self.width_estimate,\n",
        "                                                        self.spectrum.min().item()])\n",
        "\n",
        "        return Lorentzian(self.frequencies, *optimal_params)\n",
        "\n",
        "# End SplitBandData\n",
        "\n",
        "\n",
        "\n",
        "@dataclass\n",
        "class HeterodyneData(SpectrumFile):\n",
        "    \"\"\"\n",
        "    Class for working with heterodyne data.\n",
        "    Example:  `het_st80_1.CSV`\n",
        "\n",
        "    NB: Scipy's optimize module has been shown to fit multiple peaks with less\n",
        "        error than a composite model from LMFIT. For this use case, we only care\n",
        "        about the measurements of the fit (e.g. FWHM, mechanical frequency, linewidth).\n",
        "    \"\"\"  \n",
        "\n",
        "    # Area under the spectrum\n",
        "    raw_area: float = field(init=False)\n",
        "    # Initial estimates for the widths of each peak\n",
        "    left_width:  float = field(init=False)\n",
        "    right_width: float = field(init=False)\n",
        "    main_width: float = field(init=False)\n",
        "    \n",
        "\n",
        "    def __post_init__(self):\n",
        "        super().__post_init__()\n",
        "        self._set_width_estimates()\n",
        "        return\n",
        "\n",
        "\n",
        "    def _set_width_estimates(self):\n",
        "        estimates = peak_widths(self.spectrum, self._peak_selection(), rel_height=0.5)\n",
        "        values = estimates[0]\n",
        "        self.left_width = values[0]\n",
        "        self.main_width = values[1]\n",
        "        self.right_width = values[2]\n",
        "        return \n",
        "\n",
        "\n",
        "    def _peak_selection(self):\n",
        "        # Locate peaks in the spectrum by index\n",
        "        peak_indices, _ = find_peaks(self.spectrum)\n",
        "        # Select corresponding amplitudes of found peaks\n",
        "        peak_amplitudes = self.spectrum[peak_indices]\n",
        "        \n",
        "        # Sort the peaks according to height; largest to smallest\n",
        "        amp_idx_pairs = list(zip(peak_amplitudes, peak_indices)) \n",
        "        amp_idx_pairs.sort(key=lambda pair : pair[0], reverse=True)\n",
        "\n",
        "        # Track the left and right side peaks\n",
        "        left_idx = None\n",
        "        right_idx = None\n",
        "\n",
        "        # Main peak is always the tallest\n",
        "        main_amp, main_idx = amp_idx_pairs[0]\n",
        "\n",
        "        # The next tallest peak should appear on one side of the main peak\n",
        "        side_a_amp, side_a_idx = amp_idx_pairs[1]\n",
        "\n",
        "        # The opposite side peak depends on where side_a peak is located\n",
        "        side_b_pair = None\n",
        "        # The side_a peak was left of the main peak\n",
        "        if side_a_idx < main_idx:\n",
        "            left_idx = side_a_idx\n",
        "            # Compare indices to find the tallest peak on the right of the main peak\n",
        "            right_idx = (next(pair[1] for pair in amp_idx_pairs[2:] if pair[1] > main_idx))\n",
        "        # The side_a peak was right of the main peak\n",
        "        else:\n",
        "            right_idx = side_a_idx\n",
        "            # Compare indices to find the tallest peak on the left of the main peak\n",
        "            left_idx = (next(pair[1] for pair in amp_idx_pairs[2:] if pair[1] < main_idx))\n",
        "\n",
        "        return (left_idx, main_idx, right_idx)\n",
        "\n",
        "\n",
        "    def init_3lorentzian(self):\n",
        "        \n",
        "        peak_locs = self._peak_selection()\n",
        "        \n",
        "        # TODO:  Write params maker\n",
        "        # Guess Lorentzian parameters, separated by peak (left, main, right)\n",
        "        left_guess = [self.spectrum[peak_locs[0]], self.frequencies[peak_locs[0]], self.left_width, self.spectrum.min()]\n",
        "        main_guess = [self.spectrum[peak_locs[1]], self.frequencies[peak_locs[1]], self.main_width, self.spectrum.min()]\n",
        "        right_guess = [self.spectrum[peak_locs[2]], self.frequencies[peak_locs[2]], self.right_width, self.spectrum.min()]\n",
        "        initial_guess = left_guess + main_guess + right_guess\n",
        "\n",
        "        \"\"\"\n",
        "        # Tuning the min/max of the bounds is hacky and not working well\n",
        "\n",
        "        # Trying to fit a 3 peak Lorentzian first then construct individual\n",
        "        # Lorentzians from the results, instead\n",
        "\n",
        "        left_bounds = ([-np.inf, -np.inf, -np.inf, -np.inf],\n",
        "                       [np.inf, 1.05*left_guess[1], np.inf, np.inf])\n",
        "        \n",
        "        right_bounds = ([-np.inf, main_guess[1]+main_guess[2]/2, -np.inf, -np.inf],\n",
        "                       [np.inf, np.inf, np.inf, np.inf])\n",
        "        \n",
        "        \n",
        "        # TODO:  Expose Lorentzian definitions to optimization call\n",
        "        def _1Lorentzian(x, amp, cen, wid, back):\n",
        "            return (amp*wid**2/((x-cen)**2+wid**2))+back\n",
        "\n",
        "        left_optimal_params, _ = scipy.optimize.curve_fit(_1Lorentzian,\n",
        "                                                    self.frequencies,\n",
        "                                                    self.spectrum,\n",
        "                                                    p0=left_guess,\n",
        "                                                    bounds=left_bounds)\n",
        "        main_optimal_params, _ = scipy.optimize.curve_fit(_1Lorentzian,\n",
        "                                                    self.frequencies,\n",
        "                                                    self.spectrum,\n",
        "                                                    p0=main_guess)\n",
        "        right_optimal_params, _ = scipy.optimize.curve_fit(_1Lorentzian,\n",
        "                                                    self.frequencies,\n",
        "                                                    self.spectrum,\n",
        "                                                    p0=right_guess,\n",
        "                                                    bounds=right_bounds)\n",
        "        \"\"\"\n",
        "\n",
        "        def _3Lorentzian(x, lamp, lcen, lwid, lback, mamp, mcen, mwid, mback, ramp, rcen, rwid, rback):\n",
        "            return ((lamp*lwid**2/((x-lcen)**2+lwid**2))+lback) + ((mamp*mwid**2/((x-mcen)**2+mwid**2))+mback) + ((ramp*rwid**2/((x-rcen)**2+rwid**2))+rback)\n",
        "\n",
        "        optimal_params, _ = scipy.optimize.curve_fit(_3Lorentzian,\n",
        "                                                  self.frequencies,\n",
        "                                                  self.spectrum,\n",
        "                                                  p0=initial_guess,\n",
        "                                                  maxfev=6000)\n",
        "        \n",
        "        left_optimal_params = optimal_params[0:4]\n",
        "        main_optimal_params = optimal_params[4:8]\n",
        "        right_optimal_params = optimal_params[8:12]\n",
        "\n",
        "        left_lorentzian = Lorentzian(self.frequencies, *left_optimal_params)\n",
        "        main_lorentzian = Lorentzian(self.frequencies, *main_optimal_params)\n",
        "        right_lorentzian = Lorentzian(self.frequencies, *right_optimal_params)\n",
        "\n",
        "        return (left_lorentzian, main_lorentzian, right_lorentzian)\n",
        "\n",
        "\n",
        "    def _zoom_fit(self):\n",
        "\n",
        "        left_loc, main_loc, right_loc = self._peak_selection()\n",
        "\n",
        "        old_loc = len(self.frequencies)-right_loc\n",
        "\n",
        "        right_center = self.frequencies[right_loc]\n",
        "        trim_low = self.frequencies[int(main_loc+(right_loc-main_loc)*0.75)]\n",
        "        self.trim_data(low=trim_low)\n",
        "\n",
        "        new_right_loc = -1*old_loc\n",
        "\n",
        "        def _1Lorentzian(x, amp, cen, wid, back):\n",
        "            return (amp*wid**2/((x-cen)**2+wid**2))+back\n",
        "        right_guess = [self.spectrum[new_right_loc], self.frequencies[new_right_loc], self.right_width, self.spectrum.min()]\n",
        "        right_optimal_params, _ = scipy.optimize.curve_fit(_1Lorentzian,\n",
        "                                                    self.frequencies,\n",
        "                                                    self.spectrum,\n",
        "                                                    p0=right_guess,\n",
        "                                                    maxfev=5000)\n",
        "        \n",
        "        return Lorentzian(self.frequencies, *right_optimal_params)\n",
        "# End HeterodyneData"
      ]
    },
    {
      "cell_type": "markdown",
      "source": [
        "---"
      ],
      "metadata": {
        "id": "h_AHQsZUdhtm"
      }
    },
    {
      "cell_type": "code",
      "source": [
        "#rnum = np.random.randint(1,125)\n",
        "rnum = 21 # Trouble finding big peaks\n",
        "#rnum = 114 # Trouble finding small peaks\n",
        "heterodyne = HeterodyneData(\"/content/heterodyne/\", f\"het_st80_{rnum}.CSV\", \"V^2/Hz\")"
      ],
      "metadata": {
        "id": "MHYVShY5diUx"
      },
      "execution_count": 5,
      "outputs": []
    },
    {
      "cell_type": "code",
      "source": [
        "plt.plot(heterodyne.frequencies, heterodyne.spectrum)"
      ],
      "metadata": {
        "colab": {
          "base_uri": "https://localhost:8080/",
          "height": 307
        },
        "id": "GNjOvSnfhaJy",
        "outputId": "2d2aca51-aef6-4e96-8d9a-73a3eb1dcebf"
      },
      "execution_count": 6,
      "outputs": [
        {
          "output_type": "execute_result",
          "data": {
            "text/plain": [
              "[<matplotlib.lines.Line2D at 0x7fcf47725e50>]"
            ]
          },
          "metadata": {},
          "execution_count": 6
        },
        {
          "output_type": "display_data",
          "data": {
            "image/png": "[encoded data removed]",
            "text/plain": [
              "<Figure size 432x288 with 1 Axes>"
            ]
          },
          "metadata": {
            "needs_background": "light"
          }
        }
      ]
    },
    {
      "cell_type": "code",
      "source": [
        "right_lorentzian = heterodyne._zoom_fit()"
      ],
      "metadata": {
        "id": "j39EWZqPiXXr"
      },
      "execution_count": 7,
      "outputs": []
    },
    {
      "cell_type": "code",
      "source": [
        "plt.plot(heterodyne.frequencies, heterodyne.spectrum)"
      ],
      "metadata": {
        "colab": {
          "base_uri": "https://localhost:8080/",
          "height": 307
        },
        "id": "aon2kLaAilXC",
        "outputId": "603eab32-2e9f-4650-b84d-4207c524f2dd"
      },
      "execution_count": 8,
      "outputs": [
        {
          "output_type": "execute_result",
          "data": {
            "text/plain": [
              "[<matplotlib.lines.Line2D at 0x7fcf471d0890>]"
            ]
          },
          "metadata": {},
          "execution_count": 8
        },
        {
          "output_type": "display_data",
          "data": {
            "image/png": "[encoded data removed]",
            "text/plain": [
              "<Figure size 432x288 with 1 Axes>"
            ]
          },
          "metadata": {
            "needs_background": "light"
          }
        }
      ]
    },
    {
      "cell_type": "code",
      "source": [
        "plt.plot(heterodyne.frequencies[:50], heterodyne.spectrum[:50])\n",
        "plt.show()"
      ],
      "metadata": {
        "colab": {
          "base_uri": "https://localhost:8080/",
          "height": 289
        },
        "id": "uscyvavLiqPp",
        "outputId": "ca2fe371-6497-4f61-ecc5-2c93de29a023"
      },
      "execution_count": 9,
      "outputs": [
        {
          "output_type": "display_data",
          "data": {
            "image/png": "[encoded data removed]",
            "text/plain": [
              "<Figure size 432x288 with 1 Axes>"
            ]
          },
          "metadata": {
            "needs_background": "light"
          }
        }
      ]
    },
    {
      "cell_type": "code",
      "source": [
        "plt.plot(heterodyne.frequencies[:50], heterodyne.spectrum[:50])\n",
        "plt.plot(heterodyne.frequencies[:50], right_lorentzian.values[:50])\n",
        "plt.show()"
      ],
      "metadata": {
        "colab": {
          "base_uri": "https://localhost:8080/",
          "height": 289
        },
        "id": "F-nVRDoWjX-h",
        "outputId": "ab29baae-2569-430c-e402-eec0ca5f76e8"
      },
      "execution_count": 10,
      "outputs": [
        {
          "output_type": "display_data",
          "data": {
            "image/png": "[encoded data removed]",
            "text/plain": [
              "<Figure size 432x288 with 1 Axes>"
            ]
          },
          "metadata": {
            "needs_background": "light"
          }
        }
      ]
    },
    {
      "cell_type": "code",
      "source": [
        ""
      ],
      "metadata": {
        "id": "piAsYzCdmXRY"
      },
      "execution_count": 10,
      "outputs": []
    }
  ]
}